{
 "cells": [
  {
   "cell_type": "code",
   "execution_count": 1,
   "metadata": {},
   "outputs": [
    {
     "name": "stderr",
     "output_type": "stream",
     "text": [
      "Using TensorFlow backend.\n",
      "WARNING: Logging before flag parsing goes to stderr.\n",
      "W1226 14:34:21.972556  8720 deprecation_wrapper.py:119] From D:\\Anaconda\\envs\\opencv-env\\lib\\site-packages\\keras\\backend\\tensorflow_backend.py:74: The name tf.get_default_graph is deprecated. Please use tf.compat.v1.get_default_graph instead.\n",
      "\n",
      "W1226 14:34:22.392562  8720 deprecation_wrapper.py:119] From D:\\Anaconda\\envs\\opencv-env\\lib\\site-packages\\keras\\backend\\tensorflow_backend.py:517: The name tf.placeholder is deprecated. Please use tf.compat.v1.placeholder instead.\n",
      "\n",
      "W1226 14:34:22.652232  8720 deprecation_wrapper.py:119] From D:\\Anaconda\\envs\\opencv-env\\lib\\site-packages\\keras\\backend\\tensorflow_backend.py:4138: The name tf.random_uniform is deprecated. Please use tf.random.uniform instead.\n",
      "\n",
      "W1226 14:34:22.953780  8720 deprecation_wrapper.py:119] From D:\\Anaconda\\envs\\opencv-env\\lib\\site-packages\\keras\\backend\\tensorflow_backend.py:3976: The name tf.nn.max_pool is deprecated. Please use tf.nn.max_pool2d instead.\n",
      "\n",
      "W1226 14:34:23.129941  8720 deprecation_wrapper.py:119] From D:\\Anaconda\\envs\\opencv-env\\lib\\site-packages\\keras\\optimizers.py:790: The name tf.train.Optimizer is deprecated. Please use tf.compat.v1.train.Optimizer instead.\n",
      "\n",
      "W1226 14:34:23.157948  8720 deprecation_wrapper.py:119] From D:\\Anaconda\\envs\\opencv-env\\lib\\site-packages\\keras\\backend\\tensorflow_backend.py:3295: The name tf.log is deprecated. Please use tf.math.log instead.\n",
      "\n"
     ]
    }
   ],
   "source": [
    "# Importing the Keras libraries and packages\n",
    "from keras.models import Sequential\n",
    "from keras.layers import Convolution2D\n",
    "from keras.layers import MaxPooling2D\n",
    "from keras.layers import Flatten\n",
    "from keras.layers import Dense\n",
    "\n",
    "\n",
    "classifier = Sequential()\n",
    "\n",
    "classifier.add(Convolution2D(32, (3, 3), input_shape=(64, 64, 1), activation='relu'))\n",
    "classifier.add(MaxPooling2D(pool_size=(2, 2)))\n",
    "classifier.add(Convolution2D(32, (3, 3), activation='relu'))\n",
    "classifier.add(MaxPooling2D(pool_size=(2, 2)))\n",
    "\n",
    "classifier.add(Flatten())\n",
    "\n",
    "classifier.add(Dense(units=128, activation='relu'))\n",
    "classifier.add(Dense(units=30, activation='softmax')) \n",
    "\n",
    "classifier.compile(optimizer='adam', loss='categorical_crossentropy', metrics=['accuracy']) \n",
    "\n",
    "\n"
   ]
  },
  {
   "cell_type": "code",
   "execution_count": 2,
   "metadata": {},
   "outputs": [
    {
     "name": "stdout",
     "output_type": "stream",
     "text": [
      "Found 22500 images belonging to 30 classes.\n",
      "Found 7500 images belonging to 30 classes.\n"
     ]
    }
   ],
   "source": [
    "\n",
    "# Code copied from - https://keras.io/preprocessing/image/\n",
    "from keras.preprocessing.image import ImageDataGenerator\n",
    "\n",
    "train_datagen = ImageDataGenerator(\n",
    "        rescale=1./255,\n",
    "        shear_range=0.2,\n",
    "        zoom_range=0.2,\n",
    "        horizontal_flip=True)\n",
    "\n",
    "test_datagen = ImageDataGenerator(rescale=1./255)\n",
    "\n",
    "training_set = train_datagen.flow_from_directory('C:\\\\Users\\\\Hp\\\\ASL Minor Project\\\\alphabets\\\\train',\n",
    "                                                 target_size=(64, 64),\n",
    "                                                 batch_size=5,\n",
    "                                                 color_mode='grayscale',\n",
    "                                                 class_mode='categorical')\n",
    "\n",
    "test_set = test_datagen.flow_from_directory('C:\\\\Users\\\\Hp\\\\ASL Minor Project\\\\alphabets\\\\test',\n",
    "                                            target_size=(64, 64),\n",
    "                                            batch_size=5,\n",
    "                                            color_mode='grayscale',\n",
    "                                            class_mode='categorical') \n"
   ]
  },
  {
   "cell_type": "code",
   "execution_count": 3,
   "metadata": {},
   "outputs": [
    {
     "name": "stderr",
     "output_type": "stream",
     "text": [
      "W1226 14:50:39.712084  8720 deprecation.py:323] From D:\\Anaconda\\envs\\opencv-env\\lib\\site-packages\\tensorflow\\python\\ops\\math_grad.py:1250: add_dispatch_support.<locals>.wrapper (from tensorflow.python.ops.array_ops) is deprecated and will be removed in a future version.\n",
      "Instructions for updating:\n",
      "Use tf.where in 2.0, which has the same broadcast rule as np.where\n",
      "W1226 14:50:39.796084  8720 deprecation_wrapper.py:119] From D:\\Anaconda\\envs\\opencv-env\\lib\\site-packages\\keras\\backend\\tensorflow_backend.py:986: The name tf.assign_add is deprecated. Please use tf.compat.v1.assign_add instead.\n",
      "\n"
     ]
    },
    {
     "name": "stdout",
     "output_type": "stream",
     "text": [
      "Epoch 1/25\n",
      "22500/22500 [==============================] - 895s 40ms/step - loss: 0.0646 - acc: 0.9824 - val_loss: 0.7378 - val_acc: 0.9207\n",
      "Epoch 2/25\n",
      "22500/22500 [==============================] - 865s 38ms/step - loss: 0.0077 - acc: 0.9981 - val_loss: 0.6174 - val_acc: 0.9411\n",
      "Epoch 3/25\n",
      "22500/22500 [==============================] - 826s 37ms/step - loss: 0.0067 - acc: 0.9985 - val_loss: 0.7771 - val_acc: 0.9401\n",
      "Epoch 4/25\n",
      "22500/22500 [==============================] - 889s 40ms/step - loss: 0.0049 - acc: 0.9990 - val_loss: 1.0078 - val_acc: 0.9256\n",
      "Epoch 5/25\n",
      "22500/22500 [==============================] - 938s 42ms/step - loss: 0.0050 - acc: 0.9992 - val_loss: 0.7802 - val_acc: 0.9389\n",
      "Epoch 6/25\n",
      "22500/22500 [==============================] - 840s 37ms/step - loss: 0.0079 - acc: 0.9990 - val_loss: 0.7353 - val_acc: 0.9467\n",
      "Epoch 7/25\n",
      "22500/22500 [==============================] - 915s 41ms/step - loss: 0.0084 - acc: 0.9991 - val_loss: 0.9186 - val_acc: 0.9299\n",
      "Epoch 8/25\n",
      "22500/22500 [==============================] - 1126s 50ms/step - loss: 0.0085 - acc: 0.9990 - val_loss: 0.9308 - val_acc: 0.9359\n",
      "Epoch 9/25\n",
      "22500/22500 [==============================] - 1088s 48ms/step - loss: 0.0078 - acc: 0.9992 - val_loss: 1.0706 - val_acc: 0.9284\n",
      "Epoch 10/25\n",
      "22500/22500 [==============================] - 1098s 49ms/step - loss: 0.0061 - acc: 0.9994 - val_loss: 0.8498 - val_acc: 0.9404\n",
      "Epoch 11/25\n",
      "22500/22500 [==============================] - 1073s 48ms/step - loss: 0.0085 - acc: 0.9992 - val_loss: 0.9274 - val_acc: 0.9372\n",
      "Epoch 12/25\n",
      "22500/22500 [==============================] - 1078s 48ms/step - loss: 0.0067 - acc: 0.9993 - val_loss: 1.5202 - val_acc: 0.8960\n",
      "Epoch 13/25\n",
      "22500/22500 [==============================] - 866s 38ms/step - loss: 0.0095 - acc: 0.9991 - val_loss: 1.0666 - val_acc: 0.9303\n",
      "Epoch 14/25\n",
      "22500/22500 [==============================] - 1156s 51ms/step - loss: 0.0105 - acc: 0.9991 - val_loss: 0.9893 - val_acc: 0.9348\n",
      "Epoch 15/25\n",
      "22500/22500 [==============================] - 1274s 57ms/step - loss: 0.0118 - acc: 0.9991 - val_loss: 0.9544 - val_acc: 0.9381\n",
      "Epoch 16/25\n",
      "22500/22500 [==============================] - 1056s 47ms/step - loss: 0.0110 - acc: 0.9991 - val_loss: 0.9190 - val_acc: 0.9408\n",
      "Epoch 17/25\n",
      "22500/22500 [==============================] - 888s 39ms/step - loss: 0.0132 - acc: 0.9990 - val_loss: 0.9766 - val_acc: 0.9373\n",
      "Epoch 18/25\n",
      "22500/22500 [==============================] - 840s 37ms/step - loss: 0.0148 - acc: 0.9989 - val_loss: 1.0420 - val_acc: 0.9328\n",
      "Epoch 19/25\n",
      "22500/22500 [==============================] - 836s 37ms/step - loss: 0.0164 - acc: 0.9988 - val_loss: 0.9513 - val_acc: 0.9385\n",
      "Epoch 20/25\n",
      "22500/22500 [==============================] - 833s 37ms/step - loss: 0.0138 - acc: 0.9990 - val_loss: 0.8370 - val_acc: 0.9473\n",
      "Epoch 21/25\n",
      "22500/22500 [==============================] - 818s 36ms/step - loss: 0.0159 - acc: 0.9989 - val_loss: 1.0940 - val_acc: 0.9293\n",
      "Epoch 22/25\n",
      "22500/22500 [==============================] - 835s 37ms/step - loss: 0.0152 - acc: 0.9989 - val_loss: 0.8378 - val_acc: 0.9464\n",
      "Epoch 23/25\n",
      "22500/22500 [==============================] - 826s 37ms/step - loss: 0.0139 - acc: 0.9990 - val_loss: 0.9330 - val_acc: 0.9413\n",
      "Epoch 24/25\n",
      "22500/22500 [==============================] - 817s 36ms/step - loss: 0.0149 - acc: 0.9990 - val_loss: 0.8196 - val_acc: 0.9475\n",
      "Epoch 25/25\n",
      "22500/22500 [==============================] - 857s 38ms/step - loss: 0.0106 - acc: 0.9992 - val_loss: 1.0233 - val_acc: 0.9348\n"
     ]
    }
   ],
   "source": [
    "classifier.fit_generator(\n",
    "        training_set,\n",
    "        steps_per_epoch=22500, \n",
    "        epochs=25,\n",
    "        validation_data=test_set,\n",
    "        validation_steps=7500)\n",
    "\n",
    "# Saving the model\n",
    "model_json = classifier.to_json()\n",
    "with open(\"model-bw.json\", \"w\") as json_file:\n",
    "    json_file.write(model_json)\n",
    "classifier.save_weights('model-bw.h5')\n",
    "\n"
   ]
  }
 ],
 "metadata": {
  "kernelspec": {
   "display_name": "Python 3",
   "language": "python",
   "name": "python3"
  },
  "language_info": {
   "codemirror_mode": {
    "name": "ipython",
    "version": 3
   },
   "file_extension": ".py",
   "mimetype": "text/x-python",
   "name": "python",
   "nbconvert_exporter": "python",
   "pygments_lexer": "ipython3",
   "version": "3.6.8"
  }
 },
 "nbformat": 4,
 "nbformat_minor": 2
}
